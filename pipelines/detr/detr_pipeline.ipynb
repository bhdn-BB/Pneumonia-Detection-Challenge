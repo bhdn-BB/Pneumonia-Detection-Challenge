{
 "metadata": {
  "kernelspec": {
   "language": "python",
   "display_name": "Python 3",
   "name": "python3"
  },
  "language_info": {
   "name": "python",
   "version": "3.11.13",
   "mimetype": "text/x-python",
   "codemirror_mode": {
    "name": "ipython",
    "version": 3
   },
   "pygments_lexer": "ipython3",
   "nbconvert_exporter": "python",
   "file_extension": ".py"
  },
  "kaggle": {
   "accelerator": "nvidiaTeslaT4",
   "dataSources": [
    {
     "sourceId": 10338,
     "databundleVersionId": 862042,
     "sourceType": "competition"
    }
   ],
   "dockerImageVersionId": 31090,
   "isInternetEnabled": true,
   "language": "python",
   "sourceType": "notebook",
   "isGpuEnabled": true
  }
 },
 "nbformat_minor": 4,
 "nbformat": 4,
 "cells": [
  {
   "cell_type": "code",
   "source": [
    "import os\n",
    "import pandas as pd\n",
    "import torch\n",
    "from torch.utils.data import Dataset\n",
    "from PIL import Image\n",
    "import pydicom\n",
    "from transformers import (\n",
    "    RTDetrForObjectDetection,\n",
    "    RTDetrImageProcessor,\n",
    "    Trainer,\n",
    "    TrainingArguments,\n",
    ")\n",
    "import warnings\n",
    "from pipelines.detr.config import *\n",
    "from global_config import *"
   ],
   "metadata": {
    "_uuid": "8f2839f25d086af736a60e9eeb907d3b93b6e0e5",
    "_cell_guid": "b1076dfc-b9ad-4769-8c92-a6c4dae69d19",
    "trusted": true,
    "execution": {
     "iopub.status.busy": "2025-09-05T18:58:15.868113Z",
     "iopub.execute_input": "2025-09-05T18:58:15.868477Z",
     "iopub.status.idle": "2025-09-05T18:58:15.873259Z",
     "shell.execute_reply.started": "2025-09-05T18:58:15.868453Z",
     "shell.execute_reply": "2025-09-05T18:58:15.872252Z"
    }
   },
   "outputs": [],
   "execution_count": 43
  },
  {
   "cell_type": "code",
   "source": [
    "warnings.filterwarnings(\"ignore\")\n",
    "torch.backends.cudnn.benchmark = True"
   ],
   "metadata": {
    "trusted": true,
    "execution": {
     "iopub.status.busy": "2025-09-05T19:04:02.457464Z",
     "iopub.execute_input": "2025-09-05T19:04:02.458096Z",
     "iopub.status.idle": "2025-09-05T19:04:02.461652Z",
     "shell.execute_reply.started": "2025-09-05T19:04:02.458074Z",
     "shell.execute_reply": "2025-09-05T19:04:02.460920Z"
    }
   },
   "outputs": [],
   "execution_count": 49
  },
  {
   "cell_type": "code",
   "source": [
    "class RSNADataset(Dataset):\n",
    "\n",
    "    def __init__(\n",
    "            self,\n",
    "            csv_file: str,\n",
    "            images_dir: str,\n",
    "            image_processor,\n",
    "            class_names,\n",
    "    ) -> None:\n",
    "        self.df = pd.read_csv(csv_file)\n",
    "        self.images_dir = images_dir\n",
    "        self.image_processor = image_processor\n",
    "        self.class_names = class_names\n",
    "        self.label2id = {name: i for i, name in enumerate(class_names)}\n",
    "        self.patient_ids = self.df[\"patientId\"].unique().tolist()\n",
    "\n",
    "    def __len__(self):\n",
    "        return len(self.patient_ids)\n",
    "\n",
    "    def __getitem__(self, idx):\n",
    "\n",
    "        patient_id = self.patient_ids[idx]\n",
    "        dicom_path = os.path.join(self.images_dir, f\"{patient_id}.dcm\")\n",
    "        dcm = pydicom.dcmread(dicom_path)\n",
    "        image = Image.fromarray(dcm.pixel_array).convert(\"RGB\")\n",
    "\n",
    "        records = self.df[\n",
    "            self.df[\"patientId\"] == patient_id\n",
    "        ]\n",
    "        annotations = []\n",
    "        for i, row in records.iterrows():\n",
    "            if row[\"Target\"] == 1:\n",
    "                coco_bbox = [row[\"x\"], row[\"y\"], row[\"width\"], row[\"height\"]]\n",
    "                annotations.append({\n",
    "                    \"image_id\": idx,\n",
    "                    \"bbox\": coco_bbox,\n",
    "                    \"category_id\": self.label2id[\"Lung Opacity\"],\n",
    "                    \"area\": float(row[\"width\"] * row[\"height\"]),\n",
    "                    \"iscrowd\": 0,\n",
    "                    \"id\": int(i)\n",
    "                })\n",
    "        target = {\"image_id\": idx, \"annotations\": annotations}\n",
    "        encoding = self.image_processor(images=image, annotations=target, return_tensors=\"pt\")\n",
    "        pixel_values = encoding[\"pixel_values\"].squeeze()\n",
    "        labels = encoding[\"labels\"][0] if \"labels\" in encoding else target\n",
    "        return {\"pixel_values\": pixel_values, \"labels\": labels}"
   ],
   "metadata": {
    "trusted": true,
    "execution": {
     "iopub.status.busy": "2025-09-05T19:04:02.809955Z",
     "iopub.execute_input": "2025-09-05T19:04:02.810178Z",
     "iopub.status.idle": "2025-09-05T19:04:02.818896Z",
     "shell.execute_reply.started": "2025-09-05T19:04:02.810162Z",
     "shell.execute_reply": "2025-09-05T19:04:02.818153Z"
    }
   },
   "outputs": [],
   "execution_count": 50
  },
  {
   "cell_type": "code",
   "source": [
    "def collate_fn(batch):\n",
    "    pixel_values = torch.stack([item[\"pixel_values\"] for item in batch])\n",
    "    labels = [item[\"labels\"] for item in batch]\n",
    "    return {\"pixel_values\": pixel_values, \"labels\": labels}"
   ],
   "metadata": {
    "trusted": true,
    "execution": {
     "iopub.status.busy": "2025-09-05T19:04:03.207244Z",
     "iopub.execute_input": "2025-09-05T19:04:03.207507Z",
     "iopub.status.idle": "2025-09-05T19:04:03.211358Z",
     "shell.execute_reply.started": "2025-09-05T19:04:03.207485Z",
     "shell.execute_reply": "2025-09-05T19:04:03.210718Z"
    }
   },
   "outputs": [],
   "execution_count": 51
  },
  {
   "cell_type": "code",
   "source": [
    "def setup_fine_tuning(\n",
    "        csv_file,\n",
    "        images_dir,\n",
    "        output_dir,\n",
    "        num_epochs,\n",
    "        batch_size,\n",
    "        learning_rate,\n",
    "):\n",
    "    image_processor = RTDetrImageProcessor.from_pretrained(MODEL_NAME)\n",
    "    model = RTDetrForObjectDetection.from_pretrained(\n",
    "        MODEL_NAME,\n",
    "        num_labels=len(class_names),\n",
    "        ignore_mismatched_sizes=True,\n",
    "        id2label={i: name for i, name in enumerate(class_names)},\n",
    "        label2id={name: i for i, name in enumerate(class_names)},\n",
    "    )\n",
    "    dataset = RSNADataset(csv_file, images_dir, image_processor, class_names)\n",
    "    train_size = int(0.8 * len(dataset))\n",
    "    val_size = len(dataset) - train_size\n",
    "    train_dataset, val_dataset = torch.utils.data.random_split(\n",
    "        dataset,\n",
    "        [train_size, val_size]\n",
    "    )\n",
    "    training_args = TrainingArguments(\n",
    "        output_dir=output_dir,\n",
    "        per_device_train_batch_size=batch_size,\n",
    "        per_device_eval_batch_size=batch_size,\n",
    "        num_train_epochs=num_epochs,\n",
    "        learning_rate=learning_rate,\n",
    "        eval_strategy=\"epoch\",\n",
    "        save_strategy=\"epoch\",\n",
    "        logging_dir=os.path.join(output_dir, \"logs\"),\n",
    "        logging_steps=LOG_STEP,\n",
    "        load_best_model_at_end=True,\n",
    "        remove_unused_columns=False,\n",
    "        push_to_hub=False,\n",
    "        disable_tqdm=False,\n",
    "        report_to=\"tensorboard\",\n",
    "    )\n",
    "    trainer = Trainer(\n",
    "        model=model,\n",
    "        args=training_args,\n",
    "        train_dataset=train_dataset,\n",
    "        eval_dataset=val_dataset,\n",
    "        tokenizer=image_processor,\n",
    "        data_collator=collate_fn,\n",
    "        patience=PATIENCE,\n",
    "    )\n",
    "    return trainer, model"
   ],
   "metadata": {
    "trusted": true,
    "execution": {
     "iopub.status.busy": "2025-09-05T19:04:58.166046Z",
     "iopub.execute_input": "2025-09-05T19:04:58.166896Z",
     "iopub.status.idle": "2025-09-05T19:04:58.176902Z",
     "shell.execute_reply.started": "2025-09-05T19:04:58.166843Z",
     "shell.execute_reply": "2025-09-05T19:04:58.176068Z"
    }
   },
   "outputs": [],
   "execution_count": 54
  },
  {
   "metadata": {},
   "cell_type": "code",
   "outputs": [],
   "execution_count": null,
   "source": "!tensorboard --logdir /kaggle/working/rtdetr_rsna_output/logs --port 6006"
  },
  {
   "cell_type": "code",
   "source": [
    "trainer, model = setup_fine_tuning(\n",
    "    csv_file=CSV_FILE,\n",
    "    images_dir=IMAGES_DIR,\n",
    "    output_dir=OUTOUT_DIR,\n",
    "    num_epochs=NUM_EPOCHS,\n",
    "    batch_size=BATCH_SIZE,\n",
    "    learning_rate=LR\n",
    ")\n",
    "\n",
    "trainer.train()\n",
    "model.save_pretrained(OUTOUT_DIR)"
   ],
   "metadata": {
    "trusted": true,
    "execution": {
     "iopub.status.busy": "2025-09-05T19:04:59.690177Z",
     "iopub.execute_input": "2025-09-05T19:04:59.690966Z",
     "iopub.status.idle": "2025-09-05T19:05:01.183187Z",
     "shell.execute_reply.started": "2025-09-05T19:04:59.690938Z",
     "shell.execute_reply": "2025-09-05T19:05:01.181991Z"
    }
   },
   "outputs": [],
   "execution_count": null
  },
  {
   "cell_type": "code",
   "source": "",
   "metadata": {
    "trusted": true
   },
   "outputs": [],
   "execution_count": null
  }
 ]
}
