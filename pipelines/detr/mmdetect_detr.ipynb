{
 "metadata": {
  "kernelspec": {
   "language": "python",
   "display_name": "Python 3",
   "name": "python3"
  },
  "language_info": {
   "name": "python",
   "version": "3.10.10",
   "mimetype": "text/x-python",
   "codemirror_mode": {
    "name": "ipython",
    "version": 3
   },
   "pygments_lexer": "ipython3",
   "nbconvert_exporter": "python",
   "file_extension": ".py"
  },
  "kaggle": {
   "accelerator": "none",
   "dataSources": [
    {
     "sourceId": 10338,
     "databundleVersionId": 862042,
     "sourceType": "competition"
    }
   ],
   "dockerImageVersionId": 30476,
   "isInternetEnabled": true,
   "language": "python",
   "sourceType": "notebook",
   "isGpuEnabled": false
  }
 },
 "nbformat_minor": 4,
 "nbformat": 4,
 "cells": [
  {
   "cell_type": "code",
   "source": "import numpy as np # linear algebra\nimport pandas as pd # data processing, CSV file I/O (e.g. pd.read_csv)\nimport os",
   "metadata": {
    "_uuid": "8f2839f25d086af736a60e9eeb907d3b93b6e0e5",
    "_cell_guid": "b1076dfc-b9ad-4769-8c92-a6c4dae69d19",
    "execution": {
     "iopub.status.busy": "2025-09-10T20:25:36.053086Z",
     "iopub.execute_input": "2025-09-10T20:25:36.053412Z",
     "iopub.status.idle": "2025-09-10T20:25:36.084773Z",
     "shell.execute_reply.started": "2025-09-10T20:25:36.053376Z",
     "shell.execute_reply": "2025-09-10T20:25:36.083765Z"
    },
    "trusted": true
   },
   "outputs": [],
   "execution_count": null
  },
  {
   "cell_type": "code",
   "source": "!pip uninstall torch --yes",
   "metadata": {
    "execution": {
     "iopub.status.busy": "2025-09-10T20:26:20.330505Z",
     "iopub.execute_input": "2025-09-10T20:26:20.330891Z",
     "iopub.status.idle": "2025-09-10T20:26:37.215353Z",
     "shell.execute_reply.started": "2025-09-10T20:26:20.330863Z",
     "shell.execute_reply": "2025-09-10T20:26:37.213983Z"
    },
    "trusted": true
   },
   "outputs": [],
   "execution_count": null
  },
  {
   "cell_type": "code",
   "source": "# install dependencies: (use cu113 because has problems with cu12)\n!pip install torch==1.12.1+cu113 torchvision==0.13.1+cu113 torchaudio==0.12.1 --extra-index-url https://download.pytorch.org/whl/cu113\n# install mmcv-full thus we could use CUDA operators\n!pip install mmcv-full -f https://download.openmmlab.com/mmcv/dist/cu113/torch1.12.0/index.html\n\n# Install mmdetection\n!rm -rf mmdetection\n!git clone https://github.com/open-mmlab/mmdetection --branch 2.x\n%cd mmdetection\n\n!pip install -e .\n\n",
   "metadata": {
    "execution": {
     "iopub.status.busy": "2025-09-10T20:03:42.926282Z",
     "iopub.execute_input": "2025-09-10T20:03:42.926670Z",
     "iopub.status.idle": "2025-09-10T20:06:52.026328Z",
     "shell.execute_reply.started": "2025-09-10T20:03:42.926634Z",
     "shell.execute_reply": "2025-09-10T20:06:52.024319Z"
    },
    "trusted": true
   },
   "outputs": [],
   "execution_count": null
  },
  {
   "cell_type": "code",
   "source": "# Check Pytorch installation\nimport torch, torchvision\nprint(torch.__version__, torch.cuda.is_available())\n\n# Check MMDetection installation\nimport mmdet\nprint(mmdet.__version__)\n\n# Check mmcv installation\nfrom mmcv.ops import get_compiling_cuda_version, get_compiler_version\nprint(get_compiling_cuda_version())\nprint(get_compiler_version())",
   "metadata": {
    "execution": {
     "iopub.status.busy": "2025-09-10T20:09:56.444035Z",
     "iopub.execute_input": "2025-09-10T20:09:56.444722Z",
     "iopub.status.idle": "2025-09-10T20:09:59.581126Z",
     "shell.execute_reply.started": "2025-09-10T20:09:56.444657Z",
     "shell.execute_reply": "2025-09-10T20:09:59.580120Z"
    },
    "trusted": true
   },
   "outputs": [],
   "execution_count": null
  },
  {
   "cell_type": "code",
   "source": "try:\n    shutil.rmtree('/kaggle/working/')\nexcept:\n    pass",
   "metadata": {
    "trusted": true
   },
   "outputs": [],
   "execution_count": null
  },
  {
   "cell_type": "code",
   "source": "# We download the pre-trained checkpoints for inference and finetuning.\n!mkdir checkpoints\n!wget -c https://download.openmmlab.com/mmdetection/v2.0/detr/detr_r50_8x2_150e_coco/detr_r50_8x2_150e_coco-70e1a046.pth \\\n    -O checkpoints/detr_r50_coco.pth\n",
   "metadata": {
    "execution": {
     "iopub.status.busy": "2025-09-10T20:11:53.867612Z",
     "iopub.execute_input": "2025-09-10T20:11:53.868071Z",
     "iopub.status.idle": "2025-09-10T20:13:18.784206Z",
     "shell.execute_reply.started": "2025-09-10T20:11:53.868029Z",
     "shell.execute_reply": "2025-09-10T20:13:18.782654Z"
    },
    "trusted": true
   },
   "outputs": [],
   "execution_count": null
  },
  {
   "cell_type": "code",
   "source": "import mmcv\nfrom mmcv.runner import load_checkpoint\n\nfrom mmdet.apis import inference_detector, show_result_pyplot\nfrom mmdet.models import build_detector\n\n# Choose to use a config and initialize the detector\nconfig = '/kaggle/working/mmdetection/configs/detr/detr_r50_8x2_150e_coco.py'\n\n# Setup a checkpoint file to load\ncheckpoint = 'checkpoints/detr_r50_coco.pth'\n\n# Set the device to be used for evaluation\ndevice='cuda:0'\n\n# Load the config\nconfig = mmcv.Config.fromfile(config)\n# Set pretrained to be None since we do not need pretrained model here\nconfig.model.pretrained = None\n\n# Initialize the detector\nmodel = build_detector(config.model)\n\n# Load checkpoint\ncheckpoint = load_checkpoint(model, checkpoint, map_location=device)\n\n# Set the classes of models for inference\nmodel.CLASSES = checkpoint['meta']['CLASSES']\n\n# We need to set the model's cfg for inference\nmodel.cfg = config\n\n# Convert the model to GPU\nmodel.to(device)\n# Convert the model into evaluation mode\nmodel.eval()",
   "metadata": {
    "execution": {
     "iopub.status.busy": "2025-09-10T20:16:56.530282Z",
     "iopub.execute_input": "2025-09-10T20:16:56.530751Z",
     "iopub.status.idle": "2025-09-10T20:16:56.592465Z",
     "shell.execute_reply.started": "2025-09-10T20:16:56.530691Z",
     "shell.execute_reply": "2025-09-10T20:16:56.591036Z"
    },
    "trusted": true
   },
   "outputs": [],
   "execution_count": null
  },
  {
   "cell_type": "code",
   "source": "# Use the detector to do inference\nimg = 'demo/demo.jpg'\nresult = inference_detector(model, img)\n",
   "metadata": {
    "execution": {
     "iopub.status.busy": "2023-05-09T02:38:22.402494Z",
     "iopub.execute_input": "2023-05-09T02:38:22.402834Z",
     "iopub.status.idle": "2023-05-09T02:38:24.926106Z",
     "shell.execute_reply.started": "2023-05-09T02:38:22.402803Z",
     "shell.execute_reply": "2023-05-09T02:38:24.924329Z"
    },
    "trusted": true
   },
   "outputs": [],
   "execution_count": null
  },
  {
   "cell_type": "code",
   "source": "# Let's plot the result\nshow_result_pyplot(model, img, result, score_thr=0.3)",
   "metadata": {
    "execution": {
     "iopub.status.busy": "2023-05-09T02:38:24.9277Z",
     "iopub.execute_input": "2023-05-09T02:38:24.928144Z",
     "iopub.status.idle": "2023-05-09T02:38:25.570758Z",
     "shell.execute_reply.started": "2023-05-09T02:38:24.928107Z",
     "shell.execute_reply": "2023-05-09T02:38:25.569525Z"
    },
    "trusted": true
   },
   "outputs": [],
   "execution_count": null
  },
  {
   "cell_type": "code",
   "source": "%cp -r /kaggle/input/rsna-pneumonia-detection-challenge/stage_2_test_images /kaggle/working/",
   "metadata": {
    "execution": {
     "iopub.status.busy": "2023-05-09T02:38:25.588972Z",
     "iopub.execute_input": "2023-05-09T02:38:25.589595Z",
     "iopub.status.idle": "2023-05-09T02:38:55.586156Z",
     "shell.execute_reply.started": "2023-05-09T02:38:25.589566Z",
     "shell.execute_reply": "2023-05-09T02:38:55.584748Z"
    },
    "trusted": true
   },
   "outputs": [],
   "execution_count": null
  },
  {
   "cell_type": "code",
   "source": "%cp -r /kaggle/input/rsna-pneumonia-detection-challenge/stage_2_train_images /kaggle/working/",
   "metadata": {
    "execution": {
     "iopub.status.busy": "2023-05-09T02:38:55.587919Z",
     "iopub.execute_input": "2023-05-09T02:38:55.58834Z",
     "iopub.status.idle": "2023-05-09T02:43:07.971876Z",
     "shell.execute_reply.started": "2023-05-09T02:38:55.58826Z",
     "shell.execute_reply": "2023-05-09T02:43:07.970307Z"
    },
    "trusted": true
   },
   "outputs": [],
   "execution_count": null
  },
  {
   "cell_type": "code",
   "source": "import pydicom as dicom # read dcm images from dataset\nimport cv2 # convert images\nfrom tqdm import tqdm # progress bar",
   "metadata": {
    "execution": {
     "iopub.status.busy": "2023-05-09T05:15:10.080424Z",
     "iopub.status.idle": "2023-05-09T05:15:10.081123Z",
     "shell.execute_reply.started": "2023-05-09T05:15:10.080875Z",
     "shell.execute_reply": "2023-05-09T05:15:10.080899Z"
    },
    "trusted": true
   },
   "outputs": [],
   "execution_count": null
  },
  {
   "cell_type": "code",
   "source": "%cd /kaggle/working/stage_2_train_images",
   "metadata": {
    "execution": {
     "iopub.status.busy": "2023-05-09T02:43:08.100796Z",
     "iopub.execute_input": "2023-05-09T02:43:08.101149Z",
     "iopub.status.idle": "2023-05-09T02:43:08.108106Z",
     "shell.execute_reply.started": "2023-05-09T02:43:08.101118Z",
     "shell.execute_reply": "2023-05-09T02:43:08.107101Z"
    },
    "trusted": true
   },
   "outputs": [],
   "execution_count": null
  },
  {
   "cell_type": "code",
   "source": "for filename in tqdm(os.listdir('.')):  # train images\n    ds = dicom.dcmread(filename)\n    img = np.asarray(ds.pixel_array) # shape = (height, width)\n    img = np.expand_dims(img, axis=0) #shape = (1,height, width)\n    img = np.moveaxis(img, -1, 0) # shape = (height, 1, width)\n    img = np.moveaxis(img, -1, 0) # shape = (height, width, 1) -> gray scale image array (1 channel)\n    img = cv2.cvtColor(img, cv2.COLOR_GRAY2RGB) # shape = (height, width, 3) -> color image array(3 channel)\n    cv2.imwrite(filename[:-4]+ '.jpg', img) # save image in jpg format ",
   "metadata": {
    "execution": {
     "iopub.status.busy": "2023-05-09T02:43:08.109672Z",
     "iopub.execute_input": "2023-05-09T02:43:08.110257Z",
     "iopub.status.idle": "2023-05-09T02:54:11.968123Z",
     "shell.execute_reply.started": "2023-05-09T02:43:08.110226Z",
     "shell.execute_reply": "2023-05-09T02:54:11.966997Z"
    },
    "trusted": true
   },
   "outputs": [],
   "execution_count": null
  },
  {
   "cell_type": "code",
   "source": "%rm *.dcm # removing dcm files",
   "metadata": {
    "execution": {
     "iopub.status.busy": "2023-05-09T02:54:11.971152Z",
     "iopub.execute_input": "2023-05-09T02:54:11.971832Z",
     "iopub.status.idle": "2023-05-09T02:54:14.315458Z",
     "shell.execute_reply.started": "2023-05-09T02:54:11.97179Z",
     "shell.execute_reply": "2023-05-09T02:54:14.314174Z"
    },
    "trusted": true
   },
   "outputs": [],
   "execution_count": null
  },
  {
   "cell_type": "code",
   "source": "%cd /kaggle/working/stage_2_test_images",
   "metadata": {
    "execution": {
     "iopub.status.busy": "2023-05-09T02:54:14.317553Z",
     "iopub.execute_input": "2023-05-09T02:54:14.317973Z",
     "iopub.status.idle": "2023-05-09T02:54:14.335711Z",
     "shell.execute_reply.started": "2023-05-09T02:54:14.317932Z",
     "shell.execute_reply": "2023-05-09T02:54:14.33422Z"
    },
    "trusted": true
   },
   "outputs": [],
   "execution_count": null
  },
  {
   "cell_type": "code",
   "source": "for filename in tqdm(os.listdir('.')): # test images\n    ds = dicom.dcmread(filename)\n    img = np.asarray(ds.pixel_array) # shape = (height, width)\n    img = np.expand_dims(img, axis=0) #shape = (1,height, width)\n    img = np.moveaxis(img, -1, 0) # shape = (height, 1, width)\n    img = np.moveaxis(img, -1, 0) # shape = (height, width, 1) -> gray scale image array (1 channel)\n    img = cv2.cvtColor(img, cv2.COLOR_GRAY2RGB) # shape = (height, width, 3) -> color image array(3 channel)\n    cv2.imwrite(filename[:-4] + '.jpg', img) # save image in jpg format ",
   "metadata": {
    "execution": {
     "iopub.status.busy": "2023-05-09T02:54:14.337449Z",
     "iopub.execute_input": "2023-05-09T02:54:14.337957Z",
     "iopub.status.idle": "2023-05-09T02:55:27.249983Z",
     "shell.execute_reply.started": "2023-05-09T02:54:14.337924Z",
     "shell.execute_reply": "2023-05-09T02:55:27.248876Z"
    },
    "trusted": true
   },
   "outputs": [],
   "execution_count": null
  },
  {
   "cell_type": "code",
   "source": "%rm *.dcm",
   "metadata": {
    "execution": {
     "iopub.status.busy": "2023-05-09T02:55:27.251536Z",
     "iopub.execute_input": "2023-05-09T02:55:27.252365Z",
     "iopub.status.idle": "2023-05-09T02:55:28.427441Z",
     "shell.execute_reply.started": "2023-05-09T02:55:27.25233Z",
     "shell.execute_reply": "2023-05-09T02:55:28.426162Z"
    },
    "trusted": true
   },
   "outputs": [],
   "execution_count": null
  },
  {
   "cell_type": "code",
   "source": "import mmcv\nimport matplotlib.pyplot as plt\n\nimg = mmcv.imread('/kaggle/working/stage_2_train_images/e65d66fe-2835-4e27-859b-a65065758cab.jpg')\nplt.imshow(img)\nplt.show()\n",
   "metadata": {
    "execution": {
     "iopub.status.busy": "2023-05-09T04:08:10.024108Z",
     "iopub.execute_input": "2023-05-09T04:08:10.024504Z",
     "iopub.status.idle": "2023-05-09T04:08:10.448179Z",
     "shell.execute_reply.started": "2023-05-09T04:08:10.024474Z",
     "shell.execute_reply": "2023-05-09T04:08:10.447211Z"
    },
    "trusted": true
   },
   "outputs": [],
   "execution_count": null
  },
  {
   "cell_type": "code",
   "source": "img.shape # image shape",
   "metadata": {
    "execution": {
     "iopub.status.busy": "2023-05-09T04:08:15.808405Z",
     "iopub.execute_input": "2023-05-09T04:08:15.808762Z",
     "iopub.status.idle": "2023-05-09T04:08:15.816863Z",
     "shell.execute_reply.started": "2023-05-09T04:08:15.808735Z",
     "shell.execute_reply": "2023-05-09T04:08:15.815586Z"
    },
    "trusted": true
   },
   "outputs": [],
   "execution_count": null
  },
  {
   "cell_type": "code",
   "source": "!cat /kaggle/input/rsna-pneumonia-detection-challenge/stage_2_train_labels.csv # if you want to see labels",
   "metadata": {
    "trusted": true
   },
   "outputs": [],
   "execution_count": null
  },
  {
   "cell_type": "code",
   "source": "len(os.listdir('/kaggle/working/stage_2_train_images'))",
   "metadata": {
    "execution": {
     "iopub.status.busy": "2023-05-09T02:55:30.120552Z",
     "iopub.execute_input": "2023-05-09T02:55:30.121222Z",
     "iopub.status.idle": "2023-05-09T02:55:30.164444Z",
     "shell.execute_reply.started": "2023-05-09T02:55:30.121186Z",
     "shell.execute_reply": "2023-05-09T02:55:30.163641Z"
    },
    "trusted": true
   },
   "outputs": [],
   "execution_count": null
  },
  {
   "cell_type": "code",
   "source": "%cd /kaggle/working",
   "metadata": {
    "execution": {
     "iopub.status.busy": "2023-05-09T02:55:30.168782Z",
     "iopub.execute_input": "2023-05-09T02:55:30.171992Z",
     "iopub.status.idle": "2023-05-09T02:55:30.182272Z",
     "shell.execute_reply.started": "2023-05-09T02:55:30.171961Z",
     "shell.execute_reply": "2023-05-09T02:55:30.18131Z"
    },
    "trusted": true
   },
   "outputs": [],
   "execution_count": null
  },
  {
   "cell_type": "code",
   "source": "import numpy as np\nimport json\nimport pandas as pd\n\npath = '/kaggle/input/rsna-pneumonia-detection-challenge/stage_2_train_labels.csv' # the path to the CSV file\nsave_json_path = 'labels.json'\n\n\ndata = pd.read_csv(path)\n\nimages = []\ncategories = []\nannotations = []\n\ncategory = {}\ncategory[\"supercategory\"] = 'none'\ncategory[\"id\"] = 0\ncategory[\"name\"] = 'None'\ncategories.append(category)\n\ndata['fileid'] = data['patientId'].astype('category').cat.codes\ndata['categoryid']= pd.Categorical(data['Target'],ordered= True).codes\ndata['categoryid'] = data['categoryid']+1\ndata['annid'] = data.index\n\ndef image(row):\n    image = {}\n    image[\"height\"] = 1024\n    image[\"width\"] = 1024\n    image[\"id\"] = row.fileid\n    image[\"file_name\"] = row.patientId + '.jpg'\n    return image\n\ndef category(row):\n    category = {}\n    category[\"supercategory\"] = 'None'\n    category[\"id\"] = row.categoryid\n    category[\"name\"] = row[6] # 6 column is the Target\n    return category\n\ndef annotation(row):\n    annotation = {}\n    area = (row.width)*(row.height)\n    annotation[\"segmentation\"] = []\n    annotation[\"iscrowd\"] = 0\n    annotation[\"area\"] = area\n    annotation[\"image_id\"] = row.fileid\n\n    annotation[\"bbox\"] = [row.x, row.y, row.width,row.height]\n\n    annotation[\"category_id\"] = row.categoryid\n    annotation[\"id\"] = row.annid\n    return annotation\n\nfor row in data.itertuples():\n    annotations.append(annotation(row))\n\nimagedf = data.drop_duplicates(subset=['fileid']).sort_values(by='fileid')\nfor row in imagedf.itertuples():\n    images.append(image(row))\n\ncatdf = data.drop_duplicates(subset=['categoryid']).sort_values(by='categoryid')\nfor row in catdf.itertuples():\n    categories.append(category(row))\n\ndata_coco = {}\ndata_coco[\"images\"] = images\ndata_coco[\"categories\"] = categories\ndata_coco[\"annotations\"] = annotations\n\n\njson.dump(data_coco, open(save_json_path, \"w\"), indent=4)",
   "metadata": {
    "execution": {
     "iopub.status.busy": "2023-05-09T04:32:00.00213Z",
     "iopub.execute_input": "2023-05-09T04:32:00.002916Z",
     "iopub.status.idle": "2023-05-09T04:32:01.220476Z",
     "shell.execute_reply.started": "2023-05-09T04:32:00.002879Z",
     "shell.execute_reply": "2023-05-09T04:32:01.219267Z"
    },
    "trusted": true
   },
   "outputs": [],
   "execution_count": null
  },
  {
   "cell_type": "code",
   "source": "!pip install echo1-coco-split",
   "metadata": {
    "execution": {
     "iopub.status.busy": "2023-05-09T04:32:07.267528Z",
     "iopub.execute_input": "2023-05-09T04:32:07.267898Z",
     "iopub.status.idle": "2023-05-09T04:32:16.935583Z",
     "shell.execute_reply.started": "2023-05-09T04:32:07.26787Z",
     "shell.execute_reply": "2023-05-09T04:32:16.934192Z"
    },
    "trusted": true
   },
   "outputs": [],
   "execution_count": null
  },
  {
   "cell_type": "code",
   "source": "%cd /kaggle/working/",
   "metadata": {
    "execution": {
     "iopub.status.busy": "2023-05-09T04:32:16.939611Z",
     "iopub.execute_input": "2023-05-09T04:32:16.940081Z",
     "iopub.status.idle": "2023-05-09T04:32:16.948735Z",
     "shell.execute_reply.started": "2023-05-09T04:32:16.940032Z",
     "shell.execute_reply": "2023-05-09T04:32:16.947762Z"
    },
    "trusted": true
   },
   "outputs": [],
   "execution_count": null
  },
  {
   "cell_type": "code",
   "source": "%rm train.json\n%rm test.json\n%rm valid.json",
   "metadata": {
    "execution": {
     "iopub.status.busy": "2023-05-09T04:32:50.244257Z",
     "iopub.execute_input": "2023-05-09T04:32:50.244835Z",
     "iopub.status.idle": "2023-05-09T04:32:53.562539Z",
     "shell.execute_reply.started": "2023-05-09T04:32:50.244802Z",
     "shell.execute_reply": "2023-05-09T04:32:53.560998Z"
    },
    "trusted": true
   },
   "outputs": [],
   "execution_count": null
  },
  {
   "cell_type": "code",
   "source": "!coco-split \\\n    --has_annotations \\\n    --valid_ratio .2 \\\n    --test_ratio .1 \\\n    --annotations_file /kaggle/working/labels.json",
   "metadata": {
    "execution": {
     "iopub.status.busy": "2023-05-09T04:32:56.755998Z",
     "iopub.execute_input": "2023-05-09T04:32:56.756432Z",
     "iopub.status.idle": "2023-05-09T04:33:10.908252Z",
     "shell.execute_reply.started": "2023-05-09T04:32:56.756396Z",
     "shell.execute_reply": "2023-05-09T04:33:10.907075Z"
    },
    "trusted": true
   },
   "outputs": [],
   "execution_count": null
  },
  {
   "cell_type": "code",
   "source": "from mmcv import Config\ncfg = Config.fromfile('/kaggle/working/mmdetection/configs/faster_rcnn/faster_rcnn_r50_caffe_fpn_mstrain_1x_coco.py')",
   "metadata": {
    "execution": {
     "iopub.status.busy": "2023-05-09T05:32:56.337447Z",
     "iopub.execute_input": "2023-05-09T05:32:56.3379Z",
     "iopub.status.idle": "2023-05-09T05:32:56.367578Z",
     "shell.execute_reply.started": "2023-05-09T05:32:56.337867Z",
     "shell.execute_reply": "2023-05-09T05:32:56.366691Z"
    },
    "trusted": true
   },
   "outputs": [],
   "execution_count": null
  },
  {
   "cell_type": "code",
   "source": "cfg.keys()",
   "metadata": {
    "execution": {
     "iopub.status.busy": "2023-05-09T04:03:32.525952Z",
     "iopub.execute_input": "2023-05-09T04:03:32.52632Z",
     "iopub.status.idle": "2023-05-09T04:03:32.532474Z",
     "shell.execute_reply.started": "2023-05-09T04:03:32.526272Z",
     "shell.execute_reply": "2023-05-09T04:03:32.531506Z"
    },
    "trusted": true
   },
   "outputs": [],
   "execution_count": null
  },
  {
   "cell_type": "code",
   "source": "from mmdet.apis import set_random_seed\n# Modify dataset type and path\ncfg.dataset_type = 'CocoDataset'\ncfg.data_root = '/kaggle/working/'\ncfg.device = 'cuda'\nclasses = (0,1,) # \n\ncfg.data.test.type = 'CocoDataset'\ncfg.data.test.classes = classes\ncfg.data.test.data_root = '/kaggle/working/stage_2_train_images'\ncfg.data.test.ann_file = '/kaggle/working/test.json'\ncfg.data.test.img_prefix = ''\n\ncfg.data.train.type = 'CocoDataset'\ncfg.data.train.classes = classes\ncfg.data.train.data_root = '/kaggle/working/stage_2_train_images'\ncfg.data.train.ann_file = '/kaggle/working/train.json'\ncfg.data.train.img_prefix = ''\n\n\ncfg.data.val.type = 'CocoDataset'\ncfg.data.val.classes = classes\ncfg.data.val.data_root = '/kaggle/working/stage_2_train_images'\ncfg.data.val.ann_file = '/kaggle/working/valid.json'\ncfg.data.val.img_prefix = ''\n\n# modify num classes of the model in box head\ncfg.model.roi_head.bbox_head.num_classes = 2\n# If we need to finetune a model based on a pre-trained detector, we need to\n# use load_from to set the path of checkpoints.\ncfg.load_from = '/kaggle/working/mmdetection/checkpoints/faster_rcnn_r50_caffe_fpn_mstrain_3x_coco_20210526_095054-1f77628b.pth'\n\n# Set up working dir to save files and logs.\ncfg.work_dir = '/kaggle/working/logs_exps'\n\n# The original learning rate (LR) is set for 8-GPU training.\n# We divide it by 8 since we only use one GPU.\ncfg.optimizer.lr = 0.02 / 8\ncfg.lr_config.warmup = None\ncfg.log_config.interval = 10\n\n# Change the evaluation metric since we use customized dataset.\ncfg.evaluation.metric = 'bbox'\n# We can set the evaluation interval to reduce the evaluation times\ncfg.evaluation.interval = 1\n# We can set the checkpoint saving interval to reduce the storage cost\ncfg.checkpoint_config.interval = 1\n\n\n# I will train for 2 epochs to get fast result\ncfg.runner.max_epochs = 2\n\n# Set seed thus the results are more reproducible\ncfg.seed = 0\nset_random_seed(0, deterministic=False)\ncfg.gpu_ids = range(1)\n\n# We can also use tensorboard to log the training process\ncfg.log_config.hooks = [\n    dict(type='TextLoggerHook'),\n    dict(type='TensorboardLoggerHook')]\n\n\n# We can initialize the logger for training and have a look\n# at the final config used for training\nprint(f'Config:\\n{cfg.pretty_text}')",
   "metadata": {
    "execution": {
     "iopub.status.busy": "2023-05-09T10:09:25.658798Z",
     "iopub.execute_input": "2023-05-09T10:09:25.659262Z",
     "iopub.status.idle": "2023-05-09T10:09:26.602987Z",
     "shell.execute_reply.started": "2023-05-09T10:09:25.659224Z",
     "shell.execute_reply": "2023-05-09T10:09:26.600637Z"
    },
    "trusted": true
   },
   "outputs": [],
   "execution_count": null
  },
  {
   "cell_type": "code",
   "source": "from mmdet.datasets import build_dataset\nfrom mmdet.models import build_detector\nfrom mmdet.apis import train_detector\nimport os.path as osp\n\n\n\n# Build dataset\ndatasets = [build_dataset(cfg.data.train)]\n\n# Build the detector\nmodel = build_detector(cfg.model)\n# Add an attribute for visualization convenience\nclasses = ('nothing', 'pneumonia')\nmodel.CLASSES = classes\n\n\n\n",
   "metadata": {
    "execution": {
     "iopub.status.busy": "2023-05-09T10:09:26.622523Z",
     "iopub.execute_input": "2023-05-09T10:09:26.622862Z",
     "iopub.status.idle": "2023-05-09T10:09:27.293232Z",
     "shell.execute_reply.started": "2023-05-09T10:09:26.622835Z",
     "shell.execute_reply": "2023-05-09T10:09:27.292026Z"
    },
    "trusted": true
   },
   "outputs": [],
   "execution_count": null
  },
  {
   "cell_type": "code",
   "source": "print(datasets)",
   "metadata": {
    "execution": {
     "iopub.status.busy": "2023-05-09T10:09:27.520635Z",
     "iopub.execute_input": "2023-05-09T10:09:27.521622Z",
     "iopub.status.idle": "2023-05-09T10:09:28.144553Z",
     "shell.execute_reply.started": "2023-05-09T10:09:27.521575Z",
     "shell.execute_reply": "2023-05-09T10:09:28.143543Z"
    },
    "trusted": true
   },
   "outputs": [],
   "execution_count": null
  },
  {
   "cell_type": "code",
   "source": "# Create work_dir\nmmcv.mkdir_or_exist(osp.abspath(cfg.work_dir))\n# Train\ntrain_detector(model, datasets, cfg, distributed=False, validate=True)",
   "metadata": {
    "execution": {
     "iopub.status.busy": "2023-05-09T10:09:28.209046Z",
     "iopub.execute_input": "2023-05-09T10:09:28.20962Z",
     "iopub.status.idle": "2023-05-09T11:26:59.325365Z",
     "shell.execute_reply.started": "2023-05-09T10:09:28.209583Z",
     "shell.execute_reply": "2023-05-09T11:26:59.324185Z"
    },
    "trusted": true
   },
   "outputs": [],
   "execution_count": null
  },
  {
   "cell_type": "code",
   "source": "img = mmcv.imread('/kaggle/working/stage_2_train_images/00436515-870c-4b36-a041-de91049b9ab4.jpg')\nmodel.cfg = cfg\nresult = inference_detector(model, img)\nshow_result_pyplot(model, img, result)",
   "metadata": {
    "execution": {
     "iopub.status.busy": "2023-05-09T08:44:08.918828Z",
     "iopub.execute_input": "2023-05-09T08:44:08.919306Z",
     "iopub.status.idle": "2023-05-09T08:44:09.787429Z",
     "shell.execute_reply.started": "2023-05-09T08:44:08.919249Z",
     "shell.execute_reply": "2023-05-09T08:44:09.786587Z"
    },
    "trusted": true
   },
   "outputs": [],
   "execution_count": null
  },
  {
   "cell_type": "code",
   "source": "img3 = mmcv.imread('/kaggle/working/stage_2_train_images/00569f44-917d-4c86-a842-81832af98c30.jpg')\nresult = inference_detector(model, img3)\nshow_result_pyplot(model, img3, result)",
   "metadata": {
    "execution": {
     "iopub.status.busy": "2023-05-09T08:41:51.125222Z",
     "iopub.execute_input": "2023-05-09T08:41:51.126275Z",
     "iopub.status.idle": "2023-05-09T08:41:52.017999Z",
     "shell.execute_reply.started": "2023-05-09T08:41:51.126238Z",
     "shell.execute_reply": "2023-05-09T08:41:52.017091Z"
    },
    "trusted": true
   },
   "outputs": [],
   "execution_count": null
  },
  {
   "cell_type": "code",
   "source": "img4 = mmcv.imread('/kaggle/working/stage_2_train_images/0572881e-d1dd-4757-a54e-b240b30da946.jpg') # from test.json\nresult = inference_detector(model, img4)\nshow_result_pyplot(model, img4, result)",
   "metadata": {
    "execution": {
     "iopub.status.busy": "2023-05-09T08:47:06.40167Z",
     "iopub.execute_input": "2023-05-09T08:47:06.402806Z",
     "iopub.status.idle": "2023-05-09T08:47:07.343829Z",
     "shell.execute_reply.started": "2023-05-09T08:47:06.402768Z",
     "shell.execute_reply": "2023-05-09T08:47:07.342987Z"
    },
    "trusted": true
   },
   "outputs": [],
   "execution_count": null
  },
  {
   "cell_type": "code",
   "source": "img5 = mmcv.imread('/kaggle/working/stage_2_train_images/0d121525-812e-4ab2-b29f-ff04b3d97ffa.jpg') # from test.json\nresult = inference_detector(model, img5)\nshow_result_pyplot(model, img5, result)\n",
   "metadata": {
    "execution": {
     "iopub.status.busy": "2023-05-09T08:53:33.500654Z",
     "iopub.execute_input": "2023-05-09T08:53:33.501122Z",
     "iopub.status.idle": "2023-05-09T08:53:34.32574Z",
     "shell.execute_reply.started": "2023-05-09T08:53:33.501089Z",
     "shell.execute_reply": "2023-05-09T08:53:34.324498Z"
    },
    "trusted": true
   },
   "outputs": [],
   "execution_count": null
  },
  {
   "cell_type": "code",
   "source": "",
   "metadata": {},
   "outputs": [],
   "execution_count": null
  }
 ]
}
